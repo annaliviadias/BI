{
 "cells": [
  {
   "cell_type": "markdown",
   "id": "d4355ff2",
   "metadata": {},
   "source": [
    "#### Lista de Exercícios \n",
    "#### Ana Laura Godoy Papst | 191438\n",
    "#### Anna Lívia Dias | 210404\n",
    "#### Rafael Naoyuki Yamanaka Bueno | 171286"
   ]
  },
  {
   "cell_type": "code",
   "execution_count": 2,
   "id": "4da4330d",
   "metadata": {},
   "outputs": [],
   "source": [
    "import pandas as pd\n",
    "import statsmodels.api as sm"
   ]
  },
  {
   "cell_type": "markdown",
   "id": "53343acf",
   "metadata": {},
   "source": [
    "##### 3. A administração do Banco Dinheiro S.A. deseja estabelecer um critério objetivo para avaliar a eficiência de seus gerentes. Para isso, levantou para cada um dos subdistritos onde possui agência, dados a respeito do depósito médio mensal (em 1.000 dólares) por agência e o número de estabelecimentos comerciais existentes nesses subdistritos, obtendo os seguintesresultados:"
   ]
  },
  {
   "cell_type": "markdown",
   "id": "a7a834d5",
   "metadata": {},
   "source": [
    "##### a) Ajustar uma reta de mínimos quadrados a seus valores;\n",
    "##### Resposta: deposito = 14.8018 + 0.1574 * numero\n",
    "#### ---------------------------------------------------------------------------------------------------\n"
   ]
  },
  {
   "cell_type": "markdown",
   "id": "2ab7aa0e",
   "metadata": {},
   "source": [
    "##### b) Calcular o coeficiente de determinação;\n",
    "##### Resposta: coeficiente de determinação: 0.76\n",
    "### --------------------------------------------------------------------------------------"
   ]
  },
  {
   "cell_type": "code",
   "execution_count": 3,
   "id": "8772acd3",
   "metadata": {},
   "outputs": [],
   "source": [
    "numero = [16,30,35,70,80,90,120,160]\n",
    "deposito = [14,16,19,30,35,31,33,35]\n",
    "\n",
    "dados = pd.DataFrame(zip(numero, deposito), columns = ['numero', 'deposito'])"
   ]
  },
  {
   "cell_type": "code",
   "execution_count": 4,
   "id": "b3dac796",
   "metadata": {},
   "outputs": [
    {
     "data": {
      "text/html": [
       "<div>\n",
       "<style scoped>\n",
       "    .dataframe tbody tr th:only-of-type {\n",
       "        vertical-align: middle;\n",
       "    }\n",
       "\n",
       "    .dataframe tbody tr th {\n",
       "        vertical-align: top;\n",
       "    }\n",
       "\n",
       "    .dataframe thead th {\n",
       "        text-align: right;\n",
       "    }\n",
       "</style>\n",
       "<table border=\"1\" class=\"dataframe\">\n",
       "  <thead>\n",
       "    <tr style=\"text-align: right;\">\n",
       "      <th></th>\n",
       "      <th>numero</th>\n",
       "      <th>deposito</th>\n",
       "    </tr>\n",
       "  </thead>\n",
       "  <tbody>\n",
       "    <tr>\n",
       "      <th>0</th>\n",
       "      <td>16</td>\n",
       "      <td>14</td>\n",
       "    </tr>\n",
       "    <tr>\n",
       "      <th>1</th>\n",
       "      <td>30</td>\n",
       "      <td>16</td>\n",
       "    </tr>\n",
       "    <tr>\n",
       "      <th>2</th>\n",
       "      <td>35</td>\n",
       "      <td>19</td>\n",
       "    </tr>\n",
       "    <tr>\n",
       "      <th>3</th>\n",
       "      <td>70</td>\n",
       "      <td>30</td>\n",
       "    </tr>\n",
       "    <tr>\n",
       "      <th>4</th>\n",
       "      <td>80</td>\n",
       "      <td>35</td>\n",
       "    </tr>\n",
       "    <tr>\n",
       "      <th>5</th>\n",
       "      <td>90</td>\n",
       "      <td>31</td>\n",
       "    </tr>\n",
       "    <tr>\n",
       "      <th>6</th>\n",
       "      <td>120</td>\n",
       "      <td>33</td>\n",
       "    </tr>\n",
       "    <tr>\n",
       "      <th>7</th>\n",
       "      <td>160</td>\n",
       "      <td>35</td>\n",
       "    </tr>\n",
       "  </tbody>\n",
       "</table>\n",
       "</div>"
      ],
      "text/plain": [
       "   numero  deposito\n",
       "0      16        14\n",
       "1      30        16\n",
       "2      35        19\n",
       "3      70        30\n",
       "4      80        35\n",
       "5      90        31\n",
       "6     120        33\n",
       "7     160        35"
      ]
     },
     "execution_count": 4,
     "metadata": {},
     "output_type": "execute_result"
    }
   ],
   "source": [
    "dados"
   ]
  },
  {
   "cell_type": "code",
   "execution_count": 5,
   "id": "7f887387",
   "metadata": {},
   "outputs": [
    {
     "name": "stderr",
     "output_type": "stream",
     "text": [
      "C:\\ProgramData\\Anaconda3\\lib\\site-packages\\statsmodels\\tsa\\tsatools.py:142: FutureWarning: In a future version of pandas all arguments of concat except for the argument 'objs' will be keyword-only\n",
      "  x = pd.concat(x[::order], 1)\n",
      "C:\\ProgramData\\Anaconda3\\lib\\site-packages\\scipy\\stats\\stats.py:1541: UserWarning: kurtosistest only valid for n>=20 ... continuing anyway, n=8\n",
      "  warnings.warn(\"kurtosistest only valid for n>=20 ... continuing \"\n"
     ]
    },
    {
     "data": {
      "text/html": [
       "<table class=\"simpletable\">\n",
       "<caption>OLS Regression Results</caption>\n",
       "<tr>\n",
       "  <th>Dep. Variable:</th>        <td>deposito</td>     <th>  R-squared:         </th> <td>   0.760</td>\n",
       "</tr>\n",
       "<tr>\n",
       "  <th>Model:</th>                   <td>OLS</td>       <th>  Adj. R-squared:    </th> <td>   0.720</td>\n",
       "</tr>\n",
       "<tr>\n",
       "  <th>Method:</th>             <td>Least Squares</td>  <th>  F-statistic:       </th> <td>   19.02</td>\n",
       "</tr>\n",
       "<tr>\n",
       "  <th>Date:</th>             <td>Tue, 06 Sep 2022</td> <th>  Prob (F-statistic):</th>  <td>0.00476</td>\n",
       "</tr>\n",
       "<tr>\n",
       "  <th>Time:</th>                 <td>18:39:59</td>     <th>  Log-Likelihood:    </th> <td> -22.502</td>\n",
       "</tr>\n",
       "<tr>\n",
       "  <th>No. Observations:</th>      <td>     8</td>      <th>  AIC:               </th> <td>   49.00</td>\n",
       "</tr>\n",
       "<tr>\n",
       "  <th>Df Residuals:</th>          <td>     6</td>      <th>  BIC:               </th> <td>   49.16</td>\n",
       "</tr>\n",
       "<tr>\n",
       "  <th>Df Model:</th>              <td>     1</td>      <th>                     </th>     <td> </td>   \n",
       "</tr>\n",
       "<tr>\n",
       "  <th>Covariance Type:</th>      <td>nonrobust</td>    <th>                     </th>     <td> </td>   \n",
       "</tr>\n",
       "</table>\n",
       "<table class=\"simpletable\">\n",
       "<tr>\n",
       "     <td></td>       <th>coef</th>     <th>std err</th>      <th>t</th>      <th>P>|t|</th>  <th>[0.025</th>    <th>0.975]</th>  \n",
       "</tr>\n",
       "<tr>\n",
       "  <th>const</th>  <td>   14.8018</td> <td>    3.171</td> <td>    4.667</td> <td> 0.003</td> <td>    7.042</td> <td>   22.562</td>\n",
       "</tr>\n",
       "<tr>\n",
       "  <th>numero</th> <td>    0.1574</td> <td>    0.036</td> <td>    4.361</td> <td> 0.005</td> <td>    0.069</td> <td>    0.246</td>\n",
       "</tr>\n",
       "</table>\n",
       "<table class=\"simpletable\">\n",
       "<tr>\n",
       "  <th>Omnibus:</th>       <td> 1.026</td> <th>  Durbin-Watson:     </th> <td>   0.798</td>\n",
       "</tr>\n",
       "<tr>\n",
       "  <th>Prob(Omnibus):</th> <td> 0.599</td> <th>  Jarque-Bera (JB):  </th> <td>   0.716</td>\n",
       "</tr>\n",
       "<tr>\n",
       "  <th>Skew:</th>          <td> 0.602</td> <th>  Prob(JB):          </th> <td>   0.699</td>\n",
       "</tr>\n",
       "<tr>\n",
       "  <th>Kurtosis:</th>      <td> 2.164</td> <th>  Cond. No.          </th> <td>    169.</td>\n",
       "</tr>\n",
       "</table><br/><br/>Notes:<br/>[1] Standard Errors assume that the covariance matrix of the errors is correctly specified."
      ],
      "text/plain": [
       "<class 'statsmodels.iolib.summary.Summary'>\n",
       "\"\"\"\n",
       "                            OLS Regression Results                            \n",
       "==============================================================================\n",
       "Dep. Variable:               deposito   R-squared:                       0.760\n",
       "Model:                            OLS   Adj. R-squared:                  0.720\n",
       "Method:                 Least Squares   F-statistic:                     19.02\n",
       "Date:                Tue, 06 Sep 2022   Prob (F-statistic):            0.00476\n",
       "Time:                        18:39:59   Log-Likelihood:                -22.502\n",
       "No. Observations:                   8   AIC:                             49.00\n",
       "Df Residuals:                       6   BIC:                             49.16\n",
       "Df Model:                           1                                         \n",
       "Covariance Type:            nonrobust                                         \n",
       "==============================================================================\n",
       "                 coef    std err          t      P>|t|      [0.025      0.975]\n",
       "------------------------------------------------------------------------------\n",
       "const         14.8018      3.171      4.667      0.003       7.042      22.562\n",
       "numero         0.1574      0.036      4.361      0.005       0.069       0.246\n",
       "==============================================================================\n",
       "Omnibus:                        1.026   Durbin-Watson:                   0.798\n",
       "Prob(Omnibus):                  0.599   Jarque-Bera (JB):                0.716\n",
       "Skew:                           0.602   Prob(JB):                        0.699\n",
       "Kurtosis:                       2.164   Cond. No.                         169.\n",
       "==============================================================================\n",
       "\n",
       "Notes:\n",
       "[1] Standard Errors assume that the covariance matrix of the errors is correctly specified.\n",
       "\"\"\""
      ]
     },
     "execution_count": 5,
     "metadata": {},
     "output_type": "execute_result"
    }
   ],
   "source": [
    "X = dados['numero']\n",
    "y = dados['deposito']\n",
    "X = sm.add_constant(X)\n",
    "model = sm.OLS(y,X).fit()\n",
    "model.summary()"
   ]
  },
  {
   "cell_type": "markdown",
   "id": "d3aa16f0",
   "metadata": {},
   "source": [
    "##### c) Verificar quais são os gerentes eficientes.\n",
    "##### Os gerentes eficientes são: \n",
    "##### Gerente: D, E, F, G\n",
    "### -------------------------------------------------------------------------------------"
   ]
  },
  {
   "cell_type": "code",
   "execution_count": 35,
   "id": "38067ef7",
   "metadata": {},
   "outputs": [
    {
     "data": {
      "image/png": "[encoded data removed]",
      "text/plain": [
       "<Figure size 432x288 with 1 Axes>"
      ]
     },
     "metadata": {
      "needs_background": "light"
     },
     "output_type": "display_data"
    }
   ],
   "source": [
    "import matplotlib.pyplot as plt\n",
    "\n",
    "plt.plot(dados[\"numero\"],dados[\"deposito\"],'o')\n",
    "plt.xlabel('Numero')\n",
    "plt.ylabel('Deposito')\n",
    "plt.show()"
   ]
  },
  {
   "cell_type": "code",
   "execution_count": 29,
   "id": "d188aac9",
   "metadata": {},
   "outputs": [
    {
     "data": {
      "text/plain": [
       "25.8198"
      ]
     },
     "execution_count": 29,
     "metadata": {},
     "output_type": "execute_result"
    }
   ],
   "source": [
    "14.8018+0.1574 * 70"
   ]
  },
  {
   "cell_type": "code",
   "execution_count": 30,
   "id": "aed76ca3",
   "metadata": {},
   "outputs": [
    {
     "data": {
      "text/plain": [
       "27.3938"
      ]
     },
     "execution_count": 30,
     "metadata": {},
     "output_type": "execute_result"
    }
   ],
   "source": [
    "14.8018+0.1574 * 80"
   ]
  },
  {
   "cell_type": "code",
   "execution_count": 31,
   "id": "b9dfced5",
   "metadata": {},
   "outputs": [
    {
     "data": {
      "text/plain": [
       "28.9678"
      ]
     },
     "execution_count": 31,
     "metadata": {},
     "output_type": "execute_result"
    }
   ],
   "source": [
    "14.8018+0.1574 * 90"
   ]
  },
  {
   "cell_type": "code",
   "execution_count": 32,
   "id": "04977da3",
   "metadata": {},
   "outputs": [
    {
     "data": {
      "text/plain": [
       "33.689800000000005"
      ]
     },
     "execution_count": 32,
     "metadata": {},
     "output_type": "execute_result"
    }
   ],
   "source": [
    "14.8018+0.1574 * 120"
   ]
  }
 ],
 "metadata": {
  "kernelspec": {
   "display_name": "Python 3.9.12 64-bit",
   "language": "python",
   "name": "python3"
  },
  "language_info": {
   "codemirror_mode": {
    "name": "ipython",
    "version": 3
   },
   "file_extension": ".py",
   "mimetype": "text/x-python",
   "name": "python",
   "nbconvert_exporter": "python",
   "pygments_lexer": "ipython3",
   "version": "3.9.12"
  },
  "vscode": {
   "interpreter": {
    "hash": "3ab3c5557a610de44e4cff36cca49892b998e5b0db7c1354d6654ee63ef7da67"
   }
  }
 },
 "nbformat": 4,
 "nbformat_minor": 5
}
