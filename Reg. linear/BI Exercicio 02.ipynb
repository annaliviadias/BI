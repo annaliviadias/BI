{
 "cells": [
  {
   "cell_type": "markdown",
   "id": "72df8138",
   "metadata": {},
   "source": [
    "#### Lista de Exercícios \n",
    "#### Ana Laura Godoy Papst | 191438\n",
    "#### Anna Lívia Dias | 210404\n",
    "#### Rafael Naoyuki Yamanaka Bueno | 171286"
   ]
  },
  {
   "cell_type": "code",
   "execution_count": 1,
   "id": "b80be506",
   "metadata": {},
   "outputs": [],
   "source": [
    "import pandas as pd\n",
    "import statsmodels.api as sm"
   ]
  },
  {
   "cell_type": "markdown",
   "id": "f909d23d",
   "metadata": {},
   "source": [
    "##### 2. A tabela a seguir indica as quantidades produzidas de certo produto e os respectivos vustos totais de produção, apresentados pela Empresa LTDA Ltda. durante a primeira semana do mês de janeiro de 2020:"
   ]
  },
  {
   "cell_type": "markdown",
   "id": "00730611",
   "metadata": {},
   "source": [
    "##### a) A reta que melhor se ajuste a esses dados\n",
    "##### Reposta: custoTotal = 55.2860 + 9.5826 * quantidade\n",
    "#### -----------------------------------------------------------------------------"
   ]
  },
  {
   "cell_type": "markdown",
   "id": "8b478358",
   "metadata": {},
   "source": [
    "##### b) O valor mais provável dos custos fixos\n",
    "##### Resposta: valor mais provavel: 55.286 (Custo Fixo)\n",
    "#### -----------------------------------------------------------------------------"
   ]
  },
  {
   "cell_type": "code",
   "execution_count": 2,
   "id": "f018c249",
   "metadata": {},
   "outputs": [],
   "source": [
    "qtd = [10,25,50,80,90]\n",
    "custoTotal = [150,290,540,840,900]\n",
    "\n",
    "dados = pd.DataFrame(zip(qtd, custoTotal), columns = ['qtd', 'custoTotal'])"
   ]
  },
  {
   "cell_type": "code",
   "execution_count": 3,
   "id": "76240d19",
   "metadata": {},
   "outputs": [
    {
     "data": {
      "text/html": [
       "<div>\n",
       "<style scoped>\n",
       "    .dataframe tbody tr th:only-of-type {\n",
       "        vertical-align: middle;\n",
       "    }\n",
       "\n",
       "    .dataframe tbody tr th {\n",
       "        vertical-align: top;\n",
       "    }\n",
       "\n",
       "    .dataframe thead th {\n",
       "        text-align: right;\n",
       "    }\n",
       "</style>\n",
       "<table border=\"1\" class=\"dataframe\">\n",
       "  <thead>\n",
       "    <tr style=\"text-align: right;\">\n",
       "      <th></th>\n",
       "      <th>qtd</th>\n",
       "      <th>custoTotal</th>\n",
       "    </tr>\n",
       "  </thead>\n",
       "  <tbody>\n",
       "    <tr>\n",
       "      <th>0</th>\n",
       "      <td>10</td>\n",
       "      <td>150</td>\n",
       "    </tr>\n",
       "    <tr>\n",
       "      <th>1</th>\n",
       "      <td>25</td>\n",
       "      <td>290</td>\n",
       "    </tr>\n",
       "    <tr>\n",
       "      <th>2</th>\n",
       "      <td>50</td>\n",
       "      <td>540</td>\n",
       "    </tr>\n",
       "    <tr>\n",
       "      <th>3</th>\n",
       "      <td>80</td>\n",
       "      <td>840</td>\n",
       "    </tr>\n",
       "    <tr>\n",
       "      <th>4</th>\n",
       "      <td>90</td>\n",
       "      <td>900</td>\n",
       "    </tr>\n",
       "  </tbody>\n",
       "</table>\n",
       "</div>"
      ],
      "text/plain": [
       "   qtd  custoTotal\n",
       "0   10         150\n",
       "1   25         290\n",
       "2   50         540\n",
       "3   80         840\n",
       "4   90         900"
      ]
     },
     "execution_count": 3,
     "metadata": {},
     "output_type": "execute_result"
    }
   ],
   "source": [
    "dados"
   ]
  },
  {
   "cell_type": "code",
   "execution_count": 4,
   "id": "f2c05f14",
   "metadata": {},
   "outputs": [
    {
     "name": "stderr",
     "output_type": "stream",
     "text": [
      "C:\\Users\\User\\anaconda3\\lib\\site-packages\\statsmodels\\stats\\stattools.py:74: ValueWarning: omni_normtest is not valid with less than 8 observations; 5 samples were given.\n",
      "  warn(\"omni_normtest is not valid with less than 8 observations; %i \"\n"
     ]
    },
    {
     "data": {
      "text/html": [
       "<table class=\"simpletable\">\n",
       "<caption>OLS Regression Results</caption>\n",
       "<tr>\n",
       "  <th>Dep. Variable:</th>       <td>custoTotal</td>    <th>  R-squared:         </th> <td>   0.998</td>\n",
       "</tr>\n",
       "<tr>\n",
       "  <th>Model:</th>                   <td>OLS</td>       <th>  Adj. R-squared:    </th> <td>   0.998</td>\n",
       "</tr>\n",
       "<tr>\n",
       "  <th>Method:</th>             <td>Least Squares</td>  <th>  F-statistic:       </th> <td>   1863.</td>\n",
       "</tr>\n",
       "<tr>\n",
       "  <th>Date:</th>             <td>Sat, 03 Sep 2022</td> <th>  Prob (F-statistic):</th> <td>2.74e-05</td>\n",
       "</tr>\n",
       "<tr>\n",
       "  <th>Time:</th>                 <td>14:33:46</td>     <th>  Log-Likelihood:    </th> <td> -19.441</td>\n",
       "</tr>\n",
       "<tr>\n",
       "  <th>No. Observations:</th>      <td>     5</td>      <th>  AIC:               </th> <td>   42.88</td>\n",
       "</tr>\n",
       "<tr>\n",
       "  <th>Df Residuals:</th>          <td>     3</td>      <th>  BIC:               </th> <td>   42.10</td>\n",
       "</tr>\n",
       "<tr>\n",
       "  <th>Df Model:</th>              <td>     1</td>      <th>                     </th>     <td> </td>   \n",
       "</tr>\n",
       "<tr>\n",
       "  <th>Covariance Type:</th>      <td>nonrobust</td>    <th>                     </th>     <td> </td>   \n",
       "</tr>\n",
       "</table>\n",
       "<table class=\"simpletable\">\n",
       "<tr>\n",
       "    <td></td>       <th>coef</th>     <th>std err</th>      <th>t</th>      <th>P>|t|</th>  <th>[0.025</th>    <th>0.975]</th>  \n",
       "</tr>\n",
       "<tr>\n",
       "  <th>const</th> <td>   55.2860</td> <td>   13.217</td> <td>    4.183</td> <td> 0.025</td> <td>   13.223</td> <td>   97.349</td>\n",
       "</tr>\n",
       "<tr>\n",
       "  <th>qtd</th>   <td>    9.5826</td> <td>    0.222</td> <td>   43.168</td> <td> 0.000</td> <td>    8.876</td> <td>   10.289</td>\n",
       "</tr>\n",
       "</table>\n",
       "<table class=\"simpletable\">\n",
       "<tr>\n",
       "  <th>Omnibus:</th>       <td>   nan</td> <th>  Durbin-Watson:     </th> <td>   2.240</td>\n",
       "</tr>\n",
       "<tr>\n",
       "  <th>Prob(Omnibus):</th> <td>   nan</td> <th>  Jarque-Bera (JB):  </th> <td>   0.159</td>\n",
       "</tr>\n",
       "<tr>\n",
       "  <th>Skew:</th>          <td> 0.052</td> <th>  Prob(JB):          </th> <td>   0.923</td>\n",
       "</tr>\n",
       "<tr>\n",
       "  <th>Kurtosis:</th>      <td> 2.132</td> <th>  Cond. No.          </th> <td>    115.</td>\n",
       "</tr>\n",
       "</table><br/><br/>Notes:<br/>[1] Standard Errors assume that the covariance matrix of the errors is correctly specified."
      ],
      "text/plain": [
       "<class 'statsmodels.iolib.summary.Summary'>\n",
       "\"\"\"\n",
       "                            OLS Regression Results                            \n",
       "==============================================================================\n",
       "Dep. Variable:             custoTotal   R-squared:                       0.998\n",
       "Model:                            OLS   Adj. R-squared:                  0.998\n",
       "Method:                 Least Squares   F-statistic:                     1863.\n",
       "Date:                Sat, 03 Sep 2022   Prob (F-statistic):           2.74e-05\n",
       "Time:                        14:33:46   Log-Likelihood:                -19.441\n",
       "No. Observations:                   5   AIC:                             42.88\n",
       "Df Residuals:                       3   BIC:                             42.10\n",
       "Df Model:                           1                                         \n",
       "Covariance Type:            nonrobust                                         \n",
       "==============================================================================\n",
       "                 coef    std err          t      P>|t|      [0.025      0.975]\n",
       "------------------------------------------------------------------------------\n",
       "const         55.2860     13.217      4.183      0.025      13.223      97.349\n",
       "qtd            9.5826      0.222     43.168      0.000       8.876      10.289\n",
       "==============================================================================\n",
       "Omnibus:                          nan   Durbin-Watson:                   2.240\n",
       "Prob(Omnibus):                    nan   Jarque-Bera (JB):                0.159\n",
       "Skew:                           0.052   Prob(JB):                        0.923\n",
       "Kurtosis:                       2.132   Cond. No.                         115.\n",
       "==============================================================================\n",
       "\n",
       "Notes:\n",
       "[1] Standard Errors assume that the covariance matrix of the errors is correctly specified.\n",
       "\"\"\""
      ]
     },
     "execution_count": 4,
     "metadata": {},
     "output_type": "execute_result"
    }
   ],
   "source": [
    "X = dados['qtd']\n",
    "y = dados['custoTotal']\n",
    "X = sm.add_constant(X)\n",
    "model = sm.OLS(y,X).fit()\n",
    "model.summary()"
   ]
  },
  {
   "cell_type": "markdown",
   "id": "0c45319f",
   "metadata": {},
   "source": [
    "##### c) O valor estimado do custo variável total, para uma produção de 180 unidades\n",
    "#### Resposta: Cv * Qtd = 1724.868 (CVT)\n",
    "#### -----------------------------------------------------------------------------"
   ]
  },
  {
   "cell_type": "code",
   "execution_count": 1,
   "id": "38b8a23f",
   "metadata": {},
   "outputs": [
    {
     "data": {
      "text/plain": [
       "1724.868"
      ]
     },
     "execution_count": 1,
     "metadata": {},
     "output_type": "execute_result"
    }
   ],
   "source": [
    "9.5826 * 180"
   ]
  },
  {
   "cell_type": "markdown",
   "id": "237eb263",
   "metadata": {},
   "source": [
    "##### d) Admitindo-se um preço de venda de R$ 16,00 por unidade, estimar a quantidade mínima que se deve produzir para se obter lucro. Ponto de Equilíbrio = cf/(p-cv)\n",
    "##### Resposta: pe = cf / p - cv = 8.6151\n",
    "##### Portanto deve ser produzido no minino 9kg do produto para se obter lucro."
   ]
  },
  {
   "cell_type": "code",
   "execution_count": 3,
   "id": "89144fe0",
   "metadata": {},
   "outputs": [
    {
     "data": {
      "text/plain": [
       "8.614080468725652"
      ]
     },
     "execution_count": 3,
     "metadata": {},
     "output_type": "execute_result"
    }
   ],
   "source": [
    "55.286 / (16-9.5826)"
   ]
  }
 ],
 "metadata": {
  "kernelspec": {
   "display_name": "Python 3.9.12 64-bit",
   "language": "python",
   "name": "python3"
  },
  "language_info": {
   "codemirror_mode": {
    "name": "ipython",
    "version": 3
   },
   "file_extension": ".py",
   "mimetype": "text/x-python",
   "name": "python",
   "nbconvert_exporter": "python",
   "pygments_lexer": "ipython3",
   "version": "3.9.12"
  },
  "vscode": {
   "interpreter": {
    "hash": "3ab3c5557a610de44e4cff36cca49892b998e5b0db7c1354d6654ee63ef7da67"
   }
  }
 },
 "nbformat": 4,
 "nbformat_minor": 5
}
